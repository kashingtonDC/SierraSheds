{
 "cells": [
  {
   "cell_type": "code",
   "execution_count": 20,
   "metadata": {},
   "outputs": [],
   "source": [
    "#!/usr/bin/env python\n",
    "# coding: utf-8\n",
    "\n",
    "import os\n",
    "import ee\n",
    "import io\n",
    "import tqdm\n",
    "import json\n",
    "import fiona\n",
    "import datetime\n",
    "import requests\n",
    "import urllib.request\n",
    "\n",
    "import numpy as np\n",
    "import xarray as xr\n",
    "import pandas as pd\n",
    "import rsfuncs as rs\n",
    "import rasterio as rio\n",
    "import geopandas as gp\n",
    "import multiprocessing as mp\n",
    "\n",
    "import matplotlib.pyplot as plt\n",
    "\n",
    "from tqdm import tqdm\n",
    "from affine import Affine\n",
    "from datetime import timedelta\n",
    "from rasterio import features, mask\n",
    "from climata.usgs import DailyValueIO\n",
    "from pandas.tseries.offsets import MonthEnd\n",
    "from dateutil.relativedelta import relativedelta\n",
    "\n",
    "ee.Initialize()"
   ]
  },
  {
   "cell_type": "code",
   "execution_count": 52,
   "metadata": {},
   "outputs": [],
   "source": [
    "# Read catchments, reservoirs\n",
    "gdf = gp.read_file(\"../shape/sierra_catchments.shp\")\n",
    "reservoirs_gdf = gp.read_file(\"../shape/reservoirs_grace.shp\")\n",
    "\n",
    "# Load rs data\n",
    "data = rs.load_data()\n",
    "\n",
    "# Define start / end\n",
    "strstart = '2001-01-01'\n",
    "strend = '2019-12-31'\n",
    "\n",
    "startdate = datetime.datetime.strptime(strstart, \"%Y-%m-%d\")\n",
    "enddate = datetime.datetime.strptime(strend, \"%Y-%m-%d\")\n"
   ]
  },
  {
   "cell_type": "code",
   "execution_count": 53,
   "metadata": {},
   "outputs": [],
   "source": [
    "def get_q_out(stid, startdate = \"1997-01-01\",  enddate = \"2020-01-01\"):\n",
    "    '''\n",
    "    Fetch the daily discharge for a USGS gauge ID\n",
    "    Input: stid (str) - the station id\n",
    "    Output: qdf - (pd.DataFrame) - the daily streamflow data\n",
    "    '''\n",
    "    \n",
    "    data = DailyValueIO(\n",
    "        start_date=startdate, \n",
    "        end_date=enddate,\n",
    "        station=stid,\n",
    "        parameter=\"00060\",\n",
    "    )\n",
    "    \n",
    "    qs = []\n",
    "    ds = []\n",
    "    lats = []\n",
    "    lons = []\n",
    "    ids = []\n",
    "\n",
    "    for series in data:\n",
    "        values = []\n",
    "        dates = []\n",
    "        lats.append(series.latitude)\n",
    "        lons.append(series.longitude)\n",
    "        ids.append(series.site_code)\n",
    "\n",
    "        for row in series.data:\n",
    "            values.append(row.value)\n",
    "            dates.append(row.date)\n",
    "\n",
    "        qs.append(values)\n",
    "        ds.append(dates)\n",
    "    \n",
    "    qdf = pd.DataFrame(qs[0], ds[0]) # convert cfs to cms\n",
    "    qdf.columns= ['q_cfs']\n",
    "    qdf['q_cms'] = qdf['q_cfs'] * 0.0283168\n",
    "    \n",
    "    return qdf\n",
    "\n",
    "\n",
    "def get_Sres_out(stid):\n",
    "    '''\n",
    "    Fetch the monthly reservoir storage (af) for a CDEC reservoir ID\n",
    "    Input: stid (str) - 3 letter station id (ex: ISB)\n",
    "    Output: Sres - (pd.DataFrame) - the monthly reservoir levels (km^3)\n",
    "    '''\n",
    "    # Download Storage (SensorNums = 15) data by query str:\n",
    "    start = datetime.datetime(1997, 1, 1)\n",
    "    end = datetime.datetime(2020, 1, 31)\n",
    "    dt_idx = pd.date_range(start,end, freq='M')\n",
    "\n",
    "    url = '''https://cdec.water.ca.gov/dynamicapp/req/CSVDataServlet?Stations={}&SensorNums=15&dur_code=M&Start=1997-01-01&End=2020-01-01'''.format(stid)\n",
    "    urlData = requests.get(url).content\n",
    "    df = pd.read_csv(io.StringIO(urlData.decode('utf-8')))\n",
    "    \n",
    "    storage = pd.to_numeric(df.VALUE)\n",
    "\n",
    "    storage_sum = storage * 1.23348e-6 # acre ft to km^3\n",
    "    Sres = pd.DataFrame(zip(dt_idx,storage_sum), columns = ['date',\"Sres_outlet\"])\n",
    "    \n",
    "    return rs.col_to_dt(Sres)\n",
    "\n",
    "\n",
    "def get_wshed_Sres(gdf):\n",
    "    '''\n",
    "    Same as above, but filters by polygon, rather than id\n",
    "    Input: gdf (gp.GeoDataFrame) - area defining AOI \n",
    "    Output: Sres - (pd.DataFrame) - the monthly reservoir levels (km^3)\n",
    "    '''\n",
    "    within_gdf = gdf.copy()\n",
    "\n",
    "    # Download Storage (SensorNums = 15) data by query str:\n",
    "    start = datetime.datetime(1997, 1, 1)\n",
    "    end = datetime.datetime(2020, 1, 1)\n",
    "    dt_idx = pd.date_range(start,end, freq='M')\n",
    "\n",
    "    data = {}\n",
    "\n",
    "    # Loop through stations \n",
    "    for i in within_gdf.ID:\n",
    "        url = \"https://cdec.water.ca.gov/dynamicapp/req/CSVDataServlet?Stations={}&SensorNums=15&dur_code=M&Start=1997-01-01&End=2020-01-01\".format(i)\n",
    "        urlData = requests.get(url).content\n",
    "        df = pd.read_csv(io.StringIO(urlData.decode('utf-8')))\n",
    "\n",
    "        if df.empty:\n",
    "            pass\n",
    "        else:\n",
    "            data[i] = df\n",
    "\n",
    "    # Concatenate \n",
    "    storage = []\n",
    "    for k,v in data.items():\n",
    "        storage.append(pd.to_numeric(data[k].VALUE, errors = \"coerce\"))\n",
    "\n",
    "    storage_sum = np.nansum(np.column_stack(storage), axis = 1) * 1.23348e-6 # acre ft to km^3\n",
    "    Sres = pd.DataFrame(zip(dt_idx,storage_sum), columns = ['date',\"Sres\"])\n",
    "    Sres.set_index('date', inplace = True)\n",
    "    \n",
    "    return Sres\n",
    "\n",
    "\n",
    "def get_lrm_swe(shppath):\n",
    "    '''\n",
    "    Given a path to a shapefile, compute the monthly SWE\n",
    "    Input: (str) - path to shapefile\n",
    "    Output: (pd.DataFrame) - monthly SWE \n",
    "    '''\n",
    "    \n",
    "    # Find SWE files\n",
    "    data_dir = \"../data/LRM_SWE_monthly\"\n",
    "    files = [os.path.join(data_dir,x) for x in os.listdir(data_dir) if x.endswith(\".tif\")]\n",
    "    files.sort()\n",
    "\n",
    "    # Read CVWS shapefile\n",
    "    with fiona.open(shppath, \"r\") as shapefile:\n",
    "        cvws_geom = [feature[\"geometry\"] for feature in shapefile]\n",
    "\n",
    "    # Read the files, mask nans, clip to CVWS, extract dates\n",
    "    imdict = {}\n",
    "\n",
    "    for i in tqdm(files[:]):\n",
    "        date = datetime.datetime.strptime(i[-12:-4],'%Y%m%d')+ timedelta(days=-1) # Get the date \n",
    "        datestr = date.strftime('%Y%m%d') # Format date\n",
    "        src = rio.open(i) # Read file\n",
    "        src2 = rio.mask.mask(src, cvws_geom, crop=True) # Clip to shp \n",
    "        arr = src2[0] # read as array\n",
    "        arr = arr.reshape(arr.shape[1], arr.shape[2]) # Reshape bc rasterio has a different dim ordering \n",
    "        arr[arr < 0 ] = np.nan # Mask nodata vals \n",
    "        imdict[datestr] = arr\n",
    "        \n",
    "    # Fill in the dates with no SWE with nans \n",
    "    dt_idx = pd.date_range(list(imdict.keys())[0], list(imdict.keys())[-1], freq = \"M\")\n",
    "\n",
    "    all_dates = {}\n",
    "\n",
    "    for i in dt_idx:\n",
    "        date = i.strftime(\"%Y%m%d\") \n",
    "\n",
    "        if date in imdict.keys():\n",
    "            im = imdict[date]\n",
    "        else:\n",
    "            im = np.zeros_like(list(imdict.values())[0])\n",
    "            im[im==0] = np.nan\n",
    "        all_dates[date] = im\n",
    "\n",
    "    # Stack all dates to 3D array\n",
    "    cvws_swe = np.dstack(list(all_dates.values()))\n",
    "\n",
    "    # Compute monthly sums\n",
    "    swesums = []\n",
    "    for i in range(cvws_swe.shape[2]):\n",
    "        swesums.append(np.nansum(cvws_swe[:,:,i] *500**2 * 1e-9)) # mult by 2500m pixel area, convert m^3 to km^3\n",
    "\n",
    "    swedf = pd.DataFrame(swesums,dt_idx)\n",
    "    swedf.columns = ['swe_lrm']\n",
    "    return swedf\n",
    "\n",
    "\n",
    "def get_ssebop(shppath):\n",
    "    '''\n",
    "    Given a path to a shapefile, compute the monthly SSEBop ET\n",
    "    Input: (str) - path to shapefile\n",
    "    Output: (pd.DataFrame) - monthly SSEBop ET  \n",
    "    '''\n",
    "    \n",
    "    files = [os.path.join(\"../data\",x) for x in os.listdir(\"../data\") if x.endswith(\"nc\") if \"SSEBOP\" in x]\n",
    "    ds = xr.open_dataset(files[0])\n",
    "    \n",
    "    gdf = gp.read_file(shppath)\n",
    "    \n",
    "    ds['catch'] = rasterize(gdf.geometry, ds['et'][0].coords)\n",
    "    ssebop_masked = ds['et']*ds['catch']\n",
    "    \n",
    "    dt = pd.date_range(ds.time[0].values, ds.time[-1].values, freq = \"MS\")\n",
    "\n",
    "    et= []\n",
    "    for i in ssebop_masked:\n",
    "        et.append(i.sum()* 1e-6) # m^2 to km^2 \n",
    "        \n",
    "    etdf = pd.DataFrame({'et': np.array(et)}, index = dt)\n",
    "    etdf.columns = [\"aet_ssebop\"]\n",
    "    etdf.set_index(etdf.index + MonthEnd(0), inplace = True)\n",
    "    \n",
    "    return etdf\n",
    "    \n",
    "def transform_from_latlon(lat, lon):\n",
    "    lat = np.asarray(lat)\n",
    "    lon = np.asarray(lon)\n",
    "    trans = Affine.translation(lon[0], lat[0])\n",
    "    scale = Affine.scale(lon[1] - lon[0], lat[1] - lat[0])\n",
    "    return trans * scale\n",
    "\n",
    "def rasterize(shapes, coords, fill=np.nan, **kwargs):\n",
    "    \"\"\"Rasterize a list of (geometry, fill_value) tuples onto the given\n",
    "    xray coordinates. This only works for 1d latitude and longitude\n",
    "    arrays.\n",
    "    \"\"\"\n",
    "    transform = transform_from_latlon(coords['lat'], coords['lon'])\n",
    "    out_shape = (len(coords['lat']), len(coords['lon']))\n",
    "    raster = features.rasterize(shapes, out_shape=out_shape,\n",
    "                                fill=fill, transform=transform,\n",
    "                                dtype=float, **kwargs)\n",
    "    return xr.DataArray(raster, coords=coords, dims=('lat', 'lon'))"
   ]
  },
  {
   "cell_type": "code",
   "execution_count": 64,
   "metadata": {
    "scrolled": false
   },
   "outputs": [
    {
     "name": "stdout",
     "output_type": "stream",
     "text": [
      "0\n",
      "************************************************************\n",
      "NHG CALAVERAS R\n"
     ]
    },
    {
     "name": "stderr",
     "output_type": "stream",
     "text": [
      "100%|██████████| 116/116 [00:00<00:00, 132.03it/s]\n"
     ]
    },
    {
     "name": "stdout",
     "output_type": "stream",
     "text": [
      "processing:\n",
      "OREGONSTATE/PRISM/AN81m/189501\n"
     ]
    },
    {
     "data": {
      "application/vnd.jupyter.widget-view+json": {
       "model_id": "e4a28bdc9a4c4f22825353133202e7c8",
       "version_major": 2,
       "version_minor": 0
      },
      "text/plain": [
       "HBox(children=(FloatProgress(value=0.0, max=228.0), HTML(value='')))"
      ]
     },
     "metadata": {},
     "output_type": "display_data"
    },
    {
     "name": "stdout",
     "output_type": "stream",
     "text": [
      "\n",
      "processing:\n",
      "MODIS/006/MOD16A2/2001_01_01\n"
     ]
    },
    {
     "data": {
      "application/vnd.jupyter.widget-view+json": {
       "model_id": "c8d1191b1de64d69a6a752833d3b7eca",
       "version_major": 2,
       "version_minor": 0
      },
      "text/plain": [
       "HBox(children=(FloatProgress(value=0.0, max=228.0), HTML(value='')))"
      ]
     },
     "metadata": {},
     "output_type": "display_data"
    },
    {
     "name": "stdout",
     "output_type": "stream",
     "text": [
      "\n",
      "processing:\n",
      "MODIS/006/MOD16A2/2001_01_01\n"
     ]
    },
    {
     "data": {
      "application/vnd.jupyter.widget-view+json": {
       "model_id": "8d0c5777311e4beea460fd3d1aaec496",
       "version_major": 2,
       "version_minor": 0
      },
      "text/plain": [
       "HBox(children=(FloatProgress(value=0.0, max=228.0), HTML(value='')))"
      ]
     },
     "metadata": {},
     "output_type": "display_data"
    },
    {
     "name": "stdout",
     "output_type": "stream",
     "text": [
      "\n",
      "processing:\n",
      "IDAHO_EPSCOR/TERRACLIMATE/195801\n"
     ]
    },
    {
     "data": {
      "application/vnd.jupyter.widget-view+json": {
       "model_id": "4ec6171895f24dc2b6f755139ba61ecb",
       "version_major": 2,
       "version_minor": 0
      },
      "text/plain": [
       "HBox(children=(FloatProgress(value=0.0, max=228.0), HTML(value='')))"
      ]
     },
     "metadata": {},
     "output_type": "display_data"
    },
    {
     "name": "stdout",
     "output_type": "stream",
     "text": [
      "\n",
      "processing:\n",
      "NASA/ORNL/DAYMET_V3/19800101\n"
     ]
    },
    {
     "data": {
      "application/vnd.jupyter.widget-view+json": {
       "model_id": "c4fc1ee8c6d84504ae614f511870df4a",
       "version_major": 2,
       "version_minor": 0
      },
      "text/plain": [
       "HBox(children=(FloatProgress(value=0.0, max=228.0), HTML(value='')))"
      ]
     },
     "metadata": {},
     "output_type": "display_data"
    },
    {
     "name": "stdout",
     "output_type": "stream",
     "text": [
      "\n",
      "1\n",
      "************************************************************\n",
      "MCR MERCED R\n"
     ]
    },
    {
     "name": "stderr",
     "output_type": "stream",
     "text": [
      "100%|██████████| 116/116 [00:01<00:00, 85.57it/s]\n"
     ]
    },
    {
     "name": "stdout",
     "output_type": "stream",
     "text": [
      "processing:\n",
      "OREGONSTATE/PRISM/AN81m/189501\n"
     ]
    },
    {
     "data": {
      "application/vnd.jupyter.widget-view+json": {
       "model_id": "d4697abe4267410f9bf70a59b049c049",
       "version_major": 2,
       "version_minor": 0
      },
      "text/plain": [
       "HBox(children=(FloatProgress(value=0.0, max=228.0), HTML(value='')))"
      ]
     },
     "metadata": {},
     "output_type": "display_data"
    },
    {
     "name": "stdout",
     "output_type": "stream",
     "text": [
      "\n",
      "processing:\n",
      "MODIS/006/MOD16A2/2001_01_01\n"
     ]
    },
    {
     "data": {
      "application/vnd.jupyter.widget-view+json": {
       "model_id": "5f8d43dfe75c4b8b9770646865c062f5",
       "version_major": 2,
       "version_minor": 0
      },
      "text/plain": [
       "HBox(children=(FloatProgress(value=0.0, max=228.0), HTML(value='')))"
      ]
     },
     "metadata": {},
     "output_type": "display_data"
    },
    {
     "name": "stdout",
     "output_type": "stream",
     "text": [
      "\n",
      "processing:\n",
      "MODIS/006/MOD16A2/2001_01_01\n"
     ]
    },
    {
     "data": {
      "application/vnd.jupyter.widget-view+json": {
       "model_id": "39a4f6c5d9994c4e9058f95d7685dd2f",
       "version_major": 2,
       "version_minor": 0
      },
      "text/plain": [
       "HBox(children=(FloatProgress(value=0.0, max=228.0), HTML(value='')))"
      ]
     },
     "metadata": {},
     "output_type": "display_data"
    },
    {
     "name": "stdout",
     "output_type": "stream",
     "text": [
      "\n",
      "processing:\n",
      "IDAHO_EPSCOR/TERRACLIMATE/195801\n"
     ]
    },
    {
     "data": {
      "application/vnd.jupyter.widget-view+json": {
       "model_id": "f130db2f7f2d44328085b9e17b65f2bd",
       "version_major": 2,
       "version_minor": 0
      },
      "text/plain": [
       "HBox(children=(FloatProgress(value=0.0, max=228.0), HTML(value='')))"
      ]
     },
     "metadata": {},
     "output_type": "display_data"
    },
    {
     "name": "stderr",
     "output_type": "stream",
     "text": [
      "WARNING:googleapiclient.http:Sleeping 1.77 seconds before retry 1 of 5 for request: POST https://earthengine.googleapis.com/v1alpha/projects/earthengine-legacy/value:compute?prettyPrint=false&alt=json, after 500\n",
      "WARNING:googleapiclient.http:Sleeping 1.36 seconds before retry 1 of 5 for request: POST https://earthengine.googleapis.com/v1alpha/projects/earthengine-legacy/value:compute?prettyPrint=false&alt=json, after 500\n",
      "WARNING:googleapiclient.http:Sleeping 0.83 seconds before retry 1 of 5 for request: POST https://earthengine.googleapis.com/v1alpha/projects/earthengine-legacy/value:compute?prettyPrint=false&alt=json, after 500\n"
     ]
    },
    {
     "name": "stdout",
     "output_type": "stream",
     "text": [
      "\n",
      "processing:\n",
      "NASA/ORNL/DAYMET_V3/19800101\n"
     ]
    },
    {
     "data": {
      "application/vnd.jupyter.widget-view+json": {
       "model_id": "ad8913fd9fcf45e8bb5a51171a6e48e0",
       "version_major": 2,
       "version_minor": 0
      },
      "text/plain": [
       "HBox(children=(FloatProgress(value=0.0, max=228.0), HTML(value='')))"
      ]
     },
     "metadata": {},
     "output_type": "display_data"
    },
    {
     "name": "stderr",
     "output_type": "stream",
     "text": [
      "WARNING:googleapiclient.http:Sleeping 1.17 seconds before retry 1 of 5 for request: POST https://earthengine.googleapis.com/v1alpha/projects/earthengine-legacy/value:compute?prettyPrint=false&alt=json, after 502\n"
     ]
    },
    {
     "name": "stdout",
     "output_type": "stream",
     "text": [
      "\n",
      "2\n",
      "************************************************************\n",
      "NML STANISLAUS R\n"
     ]
    },
    {
     "name": "stderr",
     "output_type": "stream",
     "text": [
      "100%|██████████| 116/116 [00:01<00:00, 81.96it/s]\n"
     ]
    },
    {
     "name": "stdout",
     "output_type": "stream",
     "text": [
      "processing:\n",
      "OREGONSTATE/PRISM/AN81m/189501\n"
     ]
    },
    {
     "data": {
      "application/vnd.jupyter.widget-view+json": {
       "model_id": "33d6ea88df314b4695369bfcc586874f",
       "version_major": 2,
       "version_minor": 0
      },
      "text/plain": [
       "HBox(children=(FloatProgress(value=0.0, max=228.0), HTML(value='')))"
      ]
     },
     "metadata": {},
     "output_type": "display_data"
    },
    {
     "name": "stdout",
     "output_type": "stream",
     "text": [
      "\n",
      "processing:\n",
      "MODIS/006/MOD16A2/2001_01_01\n"
     ]
    },
    {
     "data": {
      "application/vnd.jupyter.widget-view+json": {
       "model_id": "92922f77909a4997a2635d45d004aa0c",
       "version_major": 2,
       "version_minor": 0
      },
      "text/plain": [
       "HBox(children=(FloatProgress(value=0.0, max=228.0), HTML(value='')))"
      ]
     },
     "metadata": {},
     "output_type": "display_data"
    },
    {
     "name": "stdout",
     "output_type": "stream",
     "text": [
      "\n",
      "processing:\n",
      "MODIS/006/MOD16A2/2001_01_01\n"
     ]
    },
    {
     "data": {
      "application/vnd.jupyter.widget-view+json": {
       "model_id": "b6ff2968497a46f8ae350fe7bce80758",
       "version_major": 2,
       "version_minor": 0
      },
      "text/plain": [
       "HBox(children=(FloatProgress(value=0.0, max=228.0), HTML(value='')))"
      ]
     },
     "metadata": {},
     "output_type": "display_data"
    },
    {
     "name": "stdout",
     "output_type": "stream",
     "text": [
      "\n",
      "processing:\n",
      "IDAHO_EPSCOR/TERRACLIMATE/195801\n"
     ]
    },
    {
     "data": {
      "application/vnd.jupyter.widget-view+json": {
       "model_id": "05ff95672b87406ba2b0d381e980932f",
       "version_major": 2,
       "version_minor": 0
      },
      "text/plain": [
       "HBox(children=(FloatProgress(value=0.0, max=228.0), HTML(value='')))"
      ]
     },
     "metadata": {},
     "output_type": "display_data"
    },
    {
     "name": "stdout",
     "output_type": "stream",
     "text": [
      "\n",
      "processing:\n",
      "NASA/ORNL/DAYMET_V3/19800101\n"
     ]
    },
    {
     "data": {
      "application/vnd.jupyter.widget-view+json": {
       "model_id": "423fec647859488ba2d04482e8104386",
       "version_major": 2,
       "version_minor": 0
      },
      "text/plain": [
       "HBox(children=(FloatProgress(value=0.0, max=228.0), HTML(value='')))"
      ]
     },
     "metadata": {},
     "output_type": "display_data"
    },
    {
     "name": "stdout",
     "output_type": "stream",
     "text": [
      "\n",
      "3\n",
      "************************************************************\n",
      "ORO FEATHER R\n"
     ]
    },
    {
     "name": "stderr",
     "output_type": "stream",
     "text": [
      "100%|██████████| 116/116 [00:01<00:00, 74.80it/s]\n"
     ]
    },
    {
     "name": "stdout",
     "output_type": "stream",
     "text": [
      "processing:\n",
      "OREGONSTATE/PRISM/AN81m/189501\n"
     ]
    },
    {
     "data": {
      "application/vnd.jupyter.widget-view+json": {
       "model_id": "17bc970789cf45d5b0a41082cc542057",
       "version_major": 2,
       "version_minor": 0
      },
      "text/plain": [
       "HBox(children=(FloatProgress(value=0.0, max=228.0), HTML(value='')))"
      ]
     },
     "metadata": {},
     "output_type": "display_data"
    },
    {
     "name": "stdout",
     "output_type": "stream",
     "text": [
      "\n",
      "processing:\n",
      "MODIS/006/MOD16A2/2001_01_01\n"
     ]
    },
    {
     "data": {
      "application/vnd.jupyter.widget-view+json": {
       "model_id": "39c249e1ea7f4fca85eec52681be6b7d",
       "version_major": 2,
       "version_minor": 0
      },
      "text/plain": [
       "HBox(children=(FloatProgress(value=0.0, max=228.0), HTML(value='')))"
      ]
     },
     "metadata": {},
     "output_type": "display_data"
    },
    {
     "name": "stdout",
     "output_type": "stream",
     "text": [
      "\n",
      "processing:\n",
      "MODIS/006/MOD16A2/2001_01_01\n"
     ]
    },
    {
     "data": {
      "application/vnd.jupyter.widget-view+json": {
       "model_id": "32451b8256334cb0a2ad377b3e50935d",
       "version_major": 2,
       "version_minor": 0
      },
      "text/plain": [
       "HBox(children=(FloatProgress(value=0.0, max=228.0), HTML(value='')))"
      ]
     },
     "metadata": {},
     "output_type": "display_data"
    },
    {
     "name": "stdout",
     "output_type": "stream",
     "text": [
      "\n",
      "processing:\n",
      "IDAHO_EPSCOR/TERRACLIMATE/195801\n"
     ]
    },
    {
     "data": {
      "application/vnd.jupyter.widget-view+json": {
       "model_id": "c2541e767e954e2185ee6d4ce12fee69",
       "version_major": 2,
       "version_minor": 0
      },
      "text/plain": [
       "HBox(children=(FloatProgress(value=0.0, max=228.0), HTML(value='')))"
      ]
     },
     "metadata": {},
     "output_type": "display_data"
    },
    {
     "name": "stdout",
     "output_type": "stream",
     "text": [
      "\n",
      "processing:\n",
      "NASA/ORNL/DAYMET_V3/19800101\n"
     ]
    },
    {
     "data": {
      "application/vnd.jupyter.widget-view+json": {
       "model_id": "c9b89a99f6d34bb5a308744290e7f1ad",
       "version_major": 2,
       "version_minor": 0
      },
      "text/plain": [
       "HBox(children=(FloatProgress(value=0.0, max=228.0), HTML(value='')))"
      ]
     },
     "metadata": {},
     "output_type": "display_data"
    },
    {
     "name": "stdout",
     "output_type": "stream",
     "text": [
      "\n",
      "4\n",
      "************************************************************\n",
      "MIL SAN JOAQUIN R\n"
     ]
    },
    {
     "name": "stderr",
     "output_type": "stream",
     "text": [
      "100%|██████████| 116/116 [00:00<00:00, 118.57it/s]\n"
     ]
    },
    {
     "name": "stdout",
     "output_type": "stream",
     "text": [
      "processing:\n",
      "OREGONSTATE/PRISM/AN81m/189501\n"
     ]
    },
    {
     "data": {
      "application/vnd.jupyter.widget-view+json": {
       "model_id": "7563edf70d8d409e87d79ac7cc81497e",
       "version_major": 2,
       "version_minor": 0
      },
      "text/plain": [
       "HBox(children=(FloatProgress(value=0.0, max=228.0), HTML(value='')))"
      ]
     },
     "metadata": {},
     "output_type": "display_data"
    },
    {
     "name": "stdout",
     "output_type": "stream",
     "text": [
      "\n",
      "processing:\n",
      "MODIS/006/MOD16A2/2001_01_01\n"
     ]
    },
    {
     "data": {
      "application/vnd.jupyter.widget-view+json": {
       "model_id": "71325ada46a04f01954a0e63aec75674",
       "version_major": 2,
       "version_minor": 0
      },
      "text/plain": [
       "HBox(children=(FloatProgress(value=0.0, max=228.0), HTML(value='')))"
      ]
     },
     "metadata": {},
     "output_type": "display_data"
    },
    {
     "name": "stdout",
     "output_type": "stream",
     "text": [
      "\n",
      "processing:\n",
      "MODIS/006/MOD16A2/2001_01_01\n"
     ]
    },
    {
     "data": {
      "application/vnd.jupyter.widget-view+json": {
       "model_id": "a6afe75fce1748ab87efc1cd3323f311",
       "version_major": 2,
       "version_minor": 0
      },
      "text/plain": [
       "HBox(children=(FloatProgress(value=0.0, max=228.0), HTML(value='')))"
      ]
     },
     "metadata": {},
     "output_type": "display_data"
    },
    {
     "name": "stdout",
     "output_type": "stream",
     "text": [
      "\n",
      "processing:\n",
      "IDAHO_EPSCOR/TERRACLIMATE/195801\n"
     ]
    },
    {
     "data": {
      "application/vnd.jupyter.widget-view+json": {
       "model_id": "834bf8ed5eac4d459db136a5afedddd5",
       "version_major": 2,
       "version_minor": 0
      },
      "text/plain": [
       "HBox(children=(FloatProgress(value=0.0, max=228.0), HTML(value='')))"
      ]
     },
     "metadata": {},
     "output_type": "display_data"
    },
    {
     "name": "stdout",
     "output_type": "stream",
     "text": [
      "\n",
      "processing:\n",
      "NASA/ORNL/DAYMET_V3/19800101\n"
     ]
    },
    {
     "data": {
      "application/vnd.jupyter.widget-view+json": {
       "model_id": "356ae507a39d499398c6e4f92f92d6d1",
       "version_major": 2,
       "version_minor": 0
      },
      "text/plain": [
       "HBox(children=(FloatProgress(value=0.0, max=228.0), HTML(value='')))"
      ]
     },
     "metadata": {},
     "output_type": "display_data"
    },
    {
     "name": "stdout",
     "output_type": "stream",
     "text": [
      "\n",
      "5\n",
      "************************************************************\n",
      "FOL AMERICAN R\n"
     ]
    },
    {
     "name": "stderr",
     "output_type": "stream",
     "text": [
      "100%|██████████| 116/116 [00:00<00:00, 168.64it/s]\n"
     ]
    },
    {
     "name": "stdout",
     "output_type": "stream",
     "text": [
      "processing:\n",
      "OREGONSTATE/PRISM/AN81m/189501\n"
     ]
    },
    {
     "data": {
      "application/vnd.jupyter.widget-view+json": {
       "model_id": "eb85e94855f143069dadaa76a4a1f777",
       "version_major": 2,
       "version_minor": 0
      },
      "text/plain": [
       "HBox(children=(FloatProgress(value=0.0, max=228.0), HTML(value='')))"
      ]
     },
     "metadata": {},
     "output_type": "display_data"
    },
    {
     "name": "stdout",
     "output_type": "stream",
     "text": [
      "\n",
      "processing:\n",
      "MODIS/006/MOD16A2/2001_01_01\n"
     ]
    },
    {
     "data": {
      "application/vnd.jupyter.widget-view+json": {
       "model_id": "6ff3540d8f5e4fb9a30a19d1a5b93cd9",
       "version_major": 2,
       "version_minor": 0
      },
      "text/plain": [
       "HBox(children=(FloatProgress(value=0.0, max=228.0), HTML(value='')))"
      ]
     },
     "metadata": {},
     "output_type": "display_data"
    },
    {
     "name": "stdout",
     "output_type": "stream",
     "text": [
      "\n",
      "processing:\n",
      "MODIS/006/MOD16A2/2001_01_01\n"
     ]
    },
    {
     "data": {
      "application/vnd.jupyter.widget-view+json": {
       "model_id": "8fae965d8acc4e0dbe143c458d5037ea",
       "version_major": 2,
       "version_minor": 0
      },
      "text/plain": [
       "HBox(children=(FloatProgress(value=0.0, max=228.0), HTML(value='')))"
      ]
     },
     "metadata": {},
     "output_type": "display_data"
    },
    {
     "name": "stdout",
     "output_type": "stream",
     "text": [
      "\n",
      "processing:\n",
      "IDAHO_EPSCOR/TERRACLIMATE/195801\n"
     ]
    },
    {
     "data": {
      "application/vnd.jupyter.widget-view+json": {
       "model_id": "326f0a49239e4a6fb63f8d8722b03401",
       "version_major": 2,
       "version_minor": 0
      },
      "text/plain": [
       "HBox(children=(FloatProgress(value=0.0, max=228.0), HTML(value='')))"
      ]
     },
     "metadata": {},
     "output_type": "display_data"
    },
    {
     "name": "stdout",
     "output_type": "stream",
     "text": [
      "\n",
      "processing:\n",
      "NASA/ORNL/DAYMET_V3/19800101\n"
     ]
    },
    {
     "data": {
      "application/vnd.jupyter.widget-view+json": {
       "model_id": "94f4c25652c948e581fe9dc99a8f7d56",
       "version_major": 2,
       "version_minor": 0
      },
      "text/plain": [
       "HBox(children=(FloatProgress(value=0.0, max=228.0), HTML(value='')))"
      ]
     },
     "metadata": {},
     "output_type": "display_data"
    },
    {
     "name": "stdout",
     "output_type": "stream",
     "text": [
      "\n",
      "6\n",
      "************************************************************\n",
      "CFW BEAR R\n"
     ]
    },
    {
     "name": "stderr",
     "output_type": "stream",
     "text": [
      "100%|██████████| 116/116 [00:01<00:00, 100.18it/s]\n"
     ]
    },
    {
     "name": "stdout",
     "output_type": "stream",
     "text": [
      "processing:\n",
      "OREGONSTATE/PRISM/AN81m/189501\n"
     ]
    },
    {
     "data": {
      "application/vnd.jupyter.widget-view+json": {
       "model_id": "1f3065e6d7614ae0a1004c0226962b5b",
       "version_major": 2,
       "version_minor": 0
      },
      "text/plain": [
       "HBox(children=(FloatProgress(value=0.0, max=228.0), HTML(value='')))"
      ]
     },
     "metadata": {},
     "output_type": "display_data"
    },
    {
     "name": "stdout",
     "output_type": "stream",
     "text": [
      "\n",
      "processing:\n",
      "MODIS/006/MOD16A2/2001_01_01\n"
     ]
    },
    {
     "data": {
      "application/vnd.jupyter.widget-view+json": {
       "model_id": "3e33f9dd3619453b9bd4af63b3728449",
       "version_major": 2,
       "version_minor": 0
      },
      "text/plain": [
       "HBox(children=(FloatProgress(value=0.0, max=228.0), HTML(value='')))"
      ]
     },
     "metadata": {},
     "output_type": "display_data"
    },
    {
     "name": "stdout",
     "output_type": "stream",
     "text": [
      "\n",
      "processing:\n",
      "MODIS/006/MOD16A2/2001_01_01\n"
     ]
    },
    {
     "data": {
      "application/vnd.jupyter.widget-view+json": {
       "model_id": "2ce62239d7634f0f85ff5daf8536e3df",
       "version_major": 2,
       "version_minor": 0
      },
      "text/plain": [
       "HBox(children=(FloatProgress(value=0.0, max=228.0), HTML(value='')))"
      ]
     },
     "metadata": {},
     "output_type": "display_data"
    },
    {
     "name": "stdout",
     "output_type": "stream",
     "text": [
      "\n",
      "processing:\n",
      "IDAHO_EPSCOR/TERRACLIMATE/195801\n"
     ]
    },
    {
     "data": {
      "application/vnd.jupyter.widget-view+json": {
       "model_id": "95915be652d740809dec87b5028720fd",
       "version_major": 2,
       "version_minor": 0
      },
      "text/plain": [
       "HBox(children=(FloatProgress(value=0.0, max=228.0), HTML(value='')))"
      ]
     },
     "metadata": {},
     "output_type": "display_data"
    },
    {
     "name": "stdout",
     "output_type": "stream",
     "text": [
      "\n",
      "processing:\n",
      "NASA/ORNL/DAYMET_V3/19800101\n"
     ]
    },
    {
     "data": {
      "application/vnd.jupyter.widget-view+json": {
       "model_id": "00936ada979c4facbba661978312c138",
       "version_major": 2,
       "version_minor": 0
      },
      "text/plain": [
       "HBox(children=(FloatProgress(value=0.0, max=228.0), HTML(value='')))"
      ]
     },
     "metadata": {},
     "output_type": "display_data"
    },
    {
     "name": "stdout",
     "output_type": "stream",
     "text": [
      "\n",
      "7\n",
      "************************************************************\n",
      "DNP TUOLUMNE R\n"
     ]
    },
    {
     "name": "stderr",
     "output_type": "stream",
     "text": [
      "100%|██████████| 116/116 [00:02<00:00, 54.59it/s]\n"
     ]
    },
    {
     "name": "stdout",
     "output_type": "stream",
     "text": [
      "processing:\n",
      "OREGONSTATE/PRISM/AN81m/189501\n"
     ]
    },
    {
     "data": {
      "application/vnd.jupyter.widget-view+json": {
       "model_id": "0ea81e04a9c24244aff5656cdb932e94",
       "version_major": 2,
       "version_minor": 0
      },
      "text/plain": [
       "HBox(children=(FloatProgress(value=0.0, max=228.0), HTML(value='')))"
      ]
     },
     "metadata": {},
     "output_type": "display_data"
    },
    {
     "name": "stdout",
     "output_type": "stream",
     "text": [
      "\n",
      "processing:\n",
      "MODIS/006/MOD16A2/2001_01_01\n"
     ]
    },
    {
     "data": {
      "application/vnd.jupyter.widget-view+json": {
       "model_id": "3b259a2b9ed2432aa4a2c9aafbd0b625",
       "version_major": 2,
       "version_minor": 0
      },
      "text/plain": [
       "HBox(children=(FloatProgress(value=0.0, max=228.0), HTML(value='')))"
      ]
     },
     "metadata": {},
     "output_type": "display_data"
    },
    {
     "name": "stdout",
     "output_type": "stream",
     "text": [
      "\n",
      "processing:\n",
      "MODIS/006/MOD16A2/2001_01_01\n"
     ]
    },
    {
     "data": {
      "application/vnd.jupyter.widget-view+json": {
       "model_id": "5a5d997120624cd09de3e0a0410f7829",
       "version_major": 2,
       "version_minor": 0
      },
      "text/plain": [
       "HBox(children=(FloatProgress(value=0.0, max=228.0), HTML(value='')))"
      ]
     },
     "metadata": {},
     "output_type": "display_data"
    },
    {
     "name": "stdout",
     "output_type": "stream",
     "text": [
      "\n",
      "processing:\n",
      "IDAHO_EPSCOR/TERRACLIMATE/195801\n"
     ]
    },
    {
     "data": {
      "application/vnd.jupyter.widget-view+json": {
       "model_id": "f21d0db6ec0443f78d3aadb8f905f96f",
       "version_major": 2,
       "version_minor": 0
      },
      "text/plain": [
       "HBox(children=(FloatProgress(value=0.0, max=228.0), HTML(value='')))"
      ]
     },
     "metadata": {},
     "output_type": "display_data"
    },
    {
     "name": "stdout",
     "output_type": "stream",
     "text": [
      "\n",
      "processing:\n",
      "NASA/ORNL/DAYMET_V3/19800101\n"
     ]
    },
    {
     "data": {
      "application/vnd.jupyter.widget-view+json": {
       "model_id": "01604eac69454cf8bfc8cf1a665d516a",
       "version_major": 2,
       "version_minor": 0
      },
      "text/plain": [
       "HBox(children=(FloatProgress(value=0.0, max=228.0), HTML(value='')))"
      ]
     },
     "metadata": {},
     "output_type": "display_data"
    },
    {
     "name": "stdout",
     "output_type": "stream",
     "text": [
      "\n",
      "8\n",
      "************************************************************\n",
      "SHA SACRAMENTO R\n"
     ]
    },
    {
     "name": "stderr",
     "output_type": "stream",
     "text": [
      "100%|██████████| 116/116 [00:00<00:00, 133.75it/s]\n"
     ]
    },
    {
     "name": "stdout",
     "output_type": "stream",
     "text": [
      "processing:\n",
      "OREGONSTATE/PRISM/AN81m/189501\n"
     ]
    },
    {
     "data": {
      "application/vnd.jupyter.widget-view+json": {
       "model_id": "106c0203f6284b9fac2d9c628e5bbf8a",
       "version_major": 2,
       "version_minor": 0
      },
      "text/plain": [
       "HBox(children=(FloatProgress(value=0.0, max=228.0), HTML(value='')))"
      ]
     },
     "metadata": {},
     "output_type": "display_data"
    },
    {
     "name": "stdout",
     "output_type": "stream",
     "text": [
      "\n",
      "processing:\n",
      "MODIS/006/MOD16A2/2001_01_01\n"
     ]
    },
    {
     "data": {
      "application/vnd.jupyter.widget-view+json": {
       "model_id": "03384c18df1b4a28b446dba0142e365e",
       "version_major": 2,
       "version_minor": 0
      },
      "text/plain": [
       "HBox(children=(FloatProgress(value=0.0, max=228.0), HTML(value='')))"
      ]
     },
     "metadata": {},
     "output_type": "display_data"
    },
    {
     "name": "stdout",
     "output_type": "stream",
     "text": [
      "\n",
      "processing:\n",
      "MODIS/006/MOD16A2/2001_01_01\n"
     ]
    },
    {
     "data": {
      "application/vnd.jupyter.widget-view+json": {
       "model_id": "8a7e10856c294a328d3e8fa0bb34c98d",
       "version_major": 2,
       "version_minor": 0
      },
      "text/plain": [
       "HBox(children=(FloatProgress(value=0.0, max=228.0), HTML(value='')))"
      ]
     },
     "metadata": {},
     "output_type": "display_data"
    },
    {
     "name": "stdout",
     "output_type": "stream",
     "text": [
      "\n",
      "processing:\n",
      "IDAHO_EPSCOR/TERRACLIMATE/195801\n"
     ]
    },
    {
     "data": {
      "application/vnd.jupyter.widget-view+json": {
       "model_id": "157828ef05d14f24befa335dff2d8e97",
       "version_major": 2,
       "version_minor": 0
      },
      "text/plain": [
       "HBox(children=(FloatProgress(value=0.0, max=228.0), HTML(value='')))"
      ]
     },
     "metadata": {},
     "output_type": "display_data"
    },
    {
     "name": "stdout",
     "output_type": "stream",
     "text": [
      "\n",
      "processing:\n",
      "NASA/ORNL/DAYMET_V3/19800101\n"
     ]
    },
    {
     "data": {
      "application/vnd.jupyter.widget-view+json": {
       "model_id": "babbe5deb6314a05916ea59c0ee940ba",
       "version_major": 2,
       "version_minor": 0
      },
      "text/plain": [
       "HBox(children=(FloatProgress(value=0.0, max=228.0), HTML(value='')))"
      ]
     },
     "metadata": {},
     "output_type": "display_data"
    },
    {
     "name": "stdout",
     "output_type": "stream",
     "text": [
      "\n",
      "9\n",
      "************************************************************\n",
      "SCC TULE R\n"
     ]
    },
    {
     "name": "stderr",
     "output_type": "stream",
     "text": [
      "100%|██████████| 116/116 [00:01<00:00, 98.08it/s] \n"
     ]
    },
    {
     "name": "stdout",
     "output_type": "stream",
     "text": [
      "processing:\n",
      "OREGONSTATE/PRISM/AN81m/189501\n"
     ]
    },
    {
     "data": {
      "application/vnd.jupyter.widget-view+json": {
       "model_id": "fc1e9bedaeb34f0195e09218e2626456",
       "version_major": 2,
       "version_minor": 0
      },
      "text/plain": [
       "HBox(children=(FloatProgress(value=0.0, max=228.0), HTML(value='')))"
      ]
     },
     "metadata": {},
     "output_type": "display_data"
    },
    {
     "name": "stdout",
     "output_type": "stream",
     "text": [
      "\n",
      "processing:\n",
      "MODIS/006/MOD16A2/2001_01_01\n"
     ]
    },
    {
     "data": {
      "application/vnd.jupyter.widget-view+json": {
       "model_id": "e09f7ab5d3724e88a43828ef92bcb58f",
       "version_major": 2,
       "version_minor": 0
      },
      "text/plain": [
       "HBox(children=(FloatProgress(value=0.0, max=228.0), HTML(value='')))"
      ]
     },
     "metadata": {},
     "output_type": "display_data"
    },
    {
     "name": "stdout",
     "output_type": "stream",
     "text": [
      "\n",
      "processing:\n",
      "MODIS/006/MOD16A2/2001_01_01\n"
     ]
    },
    {
     "data": {
      "application/vnd.jupyter.widget-view+json": {
       "model_id": "3f8a4ff331e149e7939ec0aa9fd0bbc0",
       "version_major": 2,
       "version_minor": 0
      },
      "text/plain": [
       "HBox(children=(FloatProgress(value=0.0, max=228.0), HTML(value='')))"
      ]
     },
     "metadata": {},
     "output_type": "display_data"
    },
    {
     "name": "stdout",
     "output_type": "stream",
     "text": [
      "\n",
      "processing:\n",
      "IDAHO_EPSCOR/TERRACLIMATE/195801\n"
     ]
    },
    {
     "data": {
      "application/vnd.jupyter.widget-view+json": {
       "model_id": "c44c78c325964afcba77a78a93c1d7f0",
       "version_major": 2,
       "version_minor": 0
      },
      "text/plain": [
       "HBox(children=(FloatProgress(value=0.0, max=228.0), HTML(value='')))"
      ]
     },
     "metadata": {},
     "output_type": "display_data"
    },
    {
     "name": "stdout",
     "output_type": "stream",
     "text": [
      "\n",
      "processing:\n",
      "NASA/ORNL/DAYMET_V3/19800101\n"
     ]
    },
    {
     "data": {
      "application/vnd.jupyter.widget-view+json": {
       "model_id": "d20a215e38b2428691a5b4aef7d9afe3",
       "version_major": 2,
       "version_minor": 0
      },
      "text/plain": [
       "HBox(children=(FloatProgress(value=0.0, max=228.0), HTML(value='')))"
      ]
     },
     "metadata": {},
     "output_type": "display_data"
    },
    {
     "name": "stdout",
     "output_type": "stream",
     "text": [
      "\n",
      "10\n",
      "************************************************************\n",
      "11335000 COSUMNES\n"
     ]
    },
    {
     "name": "stderr",
     "output_type": "stream",
     "text": [
      "100%|██████████| 116/116 [00:04<00:00, 26.81it/s]\n"
     ]
    },
    {
     "name": "stdout",
     "output_type": "stream",
     "text": [
      "processing:\n",
      "OREGONSTATE/PRISM/AN81m/189501\n"
     ]
    },
    {
     "data": {
      "application/vnd.jupyter.widget-view+json": {
       "model_id": "1cb9f12728e1424dbb3f3ea26babde2a",
       "version_major": 2,
       "version_minor": 0
      },
      "text/plain": [
       "HBox(children=(FloatProgress(value=0.0, max=228.0), HTML(value='')))"
      ]
     },
     "metadata": {},
     "output_type": "display_data"
    },
    {
     "name": "stdout",
     "output_type": "stream",
     "text": [
      "\n",
      "processing:\n",
      "MODIS/006/MOD16A2/2001_01_01\n"
     ]
    },
    {
     "data": {
      "application/vnd.jupyter.widget-view+json": {
       "model_id": "8c4432d8f3234bcea924d8cfe1db41fb",
       "version_major": 2,
       "version_minor": 0
      },
      "text/plain": [
       "HBox(children=(FloatProgress(value=0.0, max=228.0), HTML(value='')))"
      ]
     },
     "metadata": {},
     "output_type": "display_data"
    },
    {
     "name": "stdout",
     "output_type": "stream",
     "text": [
      "\n",
      "processing:\n",
      "MODIS/006/MOD16A2/2001_01_01\n"
     ]
    },
    {
     "data": {
      "application/vnd.jupyter.widget-view+json": {
       "model_id": "fec4d1f8551848879f7008bed9d7e33c",
       "version_major": 2,
       "version_minor": 0
      },
      "text/plain": [
       "HBox(children=(FloatProgress(value=0.0, max=228.0), HTML(value='')))"
      ]
     },
     "metadata": {},
     "output_type": "display_data"
    },
    {
     "name": "stdout",
     "output_type": "stream",
     "text": [
      "\n",
      "processing:\n",
      "IDAHO_EPSCOR/TERRACLIMATE/195801\n"
     ]
    },
    {
     "data": {
      "application/vnd.jupyter.widget-view+json": {
       "model_id": "de067d57f40647e49200a718fa19509c",
       "version_major": 2,
       "version_minor": 0
      },
      "text/plain": [
       "HBox(children=(FloatProgress(value=0.0, max=228.0), HTML(value='')))"
      ]
     },
     "metadata": {},
     "output_type": "display_data"
    },
    {
     "name": "stdout",
     "output_type": "stream",
     "text": [
      "\n",
      "processing:\n",
      "NASA/ORNL/DAYMET_V3/19800101\n"
     ]
    },
    {
     "data": {
      "application/vnd.jupyter.widget-view+json": {
       "model_id": "492daec7325b496c9852511289b00337",
       "version_major": 2,
       "version_minor": 0
      },
      "text/plain": [
       "HBox(children=(FloatProgress(value=0.0, max=228.0), HTML(value='')))"
      ]
     },
     "metadata": {},
     "output_type": "display_data"
    },
    {
     "name": "stderr",
     "output_type": "stream",
     "text": [
      "WARNING:googleapiclient.http:Sleeping 1.40 seconds before retry 1 of 5 for request: POST https://earthengine.googleapis.com/v1alpha/projects/earthengine-legacy/value:compute?prettyPrint=false&alt=json, after 500\n"
     ]
    },
    {
     "name": "stdout",
     "output_type": "stream",
     "text": [
      "\n",
      "11\n",
      "************************************************************\n",
      "TRM KAWEAH R\n"
     ]
    },
    {
     "name": "stderr",
     "output_type": "stream",
     "text": [
      "100%|██████████| 116/116 [00:00<00:00, 183.95it/s]\n"
     ]
    },
    {
     "name": "stdout",
     "output_type": "stream",
     "text": [
      "processing:\n",
      "OREGONSTATE/PRISM/AN81m/189501\n"
     ]
    },
    {
     "data": {
      "application/vnd.jupyter.widget-view+json": {
       "model_id": "65e665cf982847f0a03ac57bfbfdf19b",
       "version_major": 2,
       "version_minor": 0
      },
      "text/plain": [
       "HBox(children=(FloatProgress(value=0.0, max=228.0), HTML(value='')))"
      ]
     },
     "metadata": {},
     "output_type": "display_data"
    },
    {
     "name": "stdout",
     "output_type": "stream",
     "text": [
      "\n",
      "processing:\n",
      "MODIS/006/MOD16A2/2001_01_01\n"
     ]
    },
    {
     "data": {
      "application/vnd.jupyter.widget-view+json": {
       "model_id": "7dc5d796053e4fd1ae5bbb1556601088",
       "version_major": 2,
       "version_minor": 0
      },
      "text/plain": [
       "HBox(children=(FloatProgress(value=0.0, max=228.0), HTML(value='')))"
      ]
     },
     "metadata": {},
     "output_type": "display_data"
    },
    {
     "name": "stdout",
     "output_type": "stream",
     "text": [
      "\n",
      "processing:\n",
      "MODIS/006/MOD16A2/2001_01_01\n"
     ]
    },
    {
     "data": {
      "application/vnd.jupyter.widget-view+json": {
       "model_id": "83c1ed49ce7c4accb54a1594b82cf4df",
       "version_major": 2,
       "version_minor": 0
      },
      "text/plain": [
       "HBox(children=(FloatProgress(value=0.0, max=228.0), HTML(value='')))"
      ]
     },
     "metadata": {},
     "output_type": "display_data"
    },
    {
     "name": "stderr",
     "output_type": "stream",
     "text": [
      "WARNING:googleapiclient.http:Sleeping 1.19 seconds before retry 1 of 5 for request: POST https://earthengine.googleapis.com/v1alpha/projects/earthengine-legacy/value:compute?prettyPrint=false&alt=json, after 500\n"
     ]
    },
    {
     "name": "stdout",
     "output_type": "stream",
     "text": [
      "\n",
      "processing:\n",
      "IDAHO_EPSCOR/TERRACLIMATE/195801\n"
     ]
    },
    {
     "data": {
      "application/vnd.jupyter.widget-view+json": {
       "model_id": "315161b3ab004b2fbd56a6102815ffa5",
       "version_major": 2,
       "version_minor": 0
      },
      "text/plain": [
       "HBox(children=(FloatProgress(value=0.0, max=228.0), HTML(value='')))"
      ]
     },
     "metadata": {},
     "output_type": "display_data"
    },
    {
     "name": "stdout",
     "output_type": "stream",
     "text": [
      "\n",
      "processing:\n",
      "NASA/ORNL/DAYMET_V3/19800101\n"
     ]
    },
    {
     "data": {
      "application/vnd.jupyter.widget-view+json": {
       "model_id": "19443732ce734df18c227a8c48b4d0d6",
       "version_major": 2,
       "version_minor": 0
      },
      "text/plain": [
       "HBox(children=(FloatProgress(value=0.0, max=228.0), HTML(value='')))"
      ]
     },
     "metadata": {},
     "output_type": "display_data"
    },
    {
     "name": "stdout",
     "output_type": "stream",
     "text": [
      "\n",
      "12\n",
      "************************************************************\n",
      "ISB KERN R\n"
     ]
    },
    {
     "name": "stderr",
     "output_type": "stream",
     "text": [
      "100%|██████████| 116/116 [00:00<00:00, 136.43it/s]\n"
     ]
    },
    {
     "name": "stdout",
     "output_type": "stream",
     "text": [
      "processing:\n",
      "OREGONSTATE/PRISM/AN81m/189501\n"
     ]
    },
    {
     "data": {
      "application/vnd.jupyter.widget-view+json": {
       "model_id": "be98b926e5e644308ba9fc122f622e74",
       "version_major": 2,
       "version_minor": 0
      },
      "text/plain": [
       "HBox(children=(FloatProgress(value=0.0, max=228.0), HTML(value='')))"
      ]
     },
     "metadata": {},
     "output_type": "display_data"
    },
    {
     "name": "stdout",
     "output_type": "stream",
     "text": [
      "\n",
      "processing:\n",
      "MODIS/006/MOD16A2/2001_01_01\n"
     ]
    },
    {
     "data": {
      "application/vnd.jupyter.widget-view+json": {
       "model_id": "aa6293f8cb1d471ea72ed2721eb403d5",
       "version_major": 2,
       "version_minor": 0
      },
      "text/plain": [
       "HBox(children=(FloatProgress(value=0.0, max=228.0), HTML(value='')))"
      ]
     },
     "metadata": {},
     "output_type": "display_data"
    },
    {
     "name": "stdout",
     "output_type": "stream",
     "text": [
      "\n",
      "processing:\n",
      "MODIS/006/MOD16A2/2001_01_01\n"
     ]
    },
    {
     "data": {
      "application/vnd.jupyter.widget-view+json": {
       "model_id": "b4d169ba54304e1da98ceca5d80c4ff3",
       "version_major": 2,
       "version_minor": 0
      },
      "text/plain": [
       "HBox(children=(FloatProgress(value=0.0, max=228.0), HTML(value='')))"
      ]
     },
     "metadata": {},
     "output_type": "display_data"
    },
    {
     "name": "stdout",
     "output_type": "stream",
     "text": [
      "\n",
      "processing:\n",
      "IDAHO_EPSCOR/TERRACLIMATE/195801\n"
     ]
    },
    {
     "data": {
      "application/vnd.jupyter.widget-view+json": {
       "model_id": "9ab36693ddc44fe48f4321f9467cccbc",
       "version_major": 2,
       "version_minor": 0
      },
      "text/plain": [
       "HBox(children=(FloatProgress(value=0.0, max=228.0), HTML(value='')))"
      ]
     },
     "metadata": {},
     "output_type": "display_data"
    },
    {
     "name": "stdout",
     "output_type": "stream",
     "text": [
      "\n",
      "processing:\n",
      "NASA/ORNL/DAYMET_V3/19800101\n"
     ]
    },
    {
     "data": {
      "application/vnd.jupyter.widget-view+json": {
       "model_id": "449557ad812b4e9baf4f3ee0dd7b3552",
       "version_major": 2,
       "version_minor": 0
      },
      "text/plain": [
       "HBox(children=(FloatProgress(value=0.0, max=228.0), HTML(value='')))"
      ]
     },
     "metadata": {},
     "output_type": "display_data"
    },
    {
     "name": "stdout",
     "output_type": "stream",
     "text": [
      "\n",
      "13\n",
      "************************************************************\n",
      "ENG YUBA R\n"
     ]
    },
    {
     "name": "stderr",
     "output_type": "stream",
     "text": [
      "100%|██████████| 116/116 [00:00<00:00, 148.34it/s]\n"
     ]
    },
    {
     "name": "stdout",
     "output_type": "stream",
     "text": [
      "processing:\n",
      "OREGONSTATE/PRISM/AN81m/189501\n"
     ]
    },
    {
     "data": {
      "application/vnd.jupyter.widget-view+json": {
       "model_id": "64064cd46c6749b0bd0d4ce547e0443a",
       "version_major": 2,
       "version_minor": 0
      },
      "text/plain": [
       "HBox(children=(FloatProgress(value=0.0, max=228.0), HTML(value='')))"
      ]
     },
     "metadata": {},
     "output_type": "display_data"
    },
    {
     "name": "stdout",
     "output_type": "stream",
     "text": [
      "\n",
      "processing:\n",
      "MODIS/006/MOD16A2/2001_01_01\n"
     ]
    },
    {
     "data": {
      "application/vnd.jupyter.widget-view+json": {
       "model_id": "99bab98387ef4f7cbbaee06264a8b287",
       "version_major": 2,
       "version_minor": 0
      },
      "text/plain": [
       "HBox(children=(FloatProgress(value=0.0, max=228.0), HTML(value='')))"
      ]
     },
     "metadata": {},
     "output_type": "display_data"
    },
    {
     "name": "stdout",
     "output_type": "stream",
     "text": [
      "\n",
      "processing:\n",
      "MODIS/006/MOD16A2/2001_01_01\n"
     ]
    },
    {
     "data": {
      "application/vnd.jupyter.widget-view+json": {
       "model_id": "22c53ffce5ac4424838edb2c94b70165",
       "version_major": 2,
       "version_minor": 0
      },
      "text/plain": [
       "HBox(children=(FloatProgress(value=0.0, max=228.0), HTML(value='')))"
      ]
     },
     "metadata": {},
     "output_type": "display_data"
    },
    {
     "name": "stderr",
     "output_type": "stream",
     "text": [
      "WARNING:googleapiclient.http:Sleeping 0.42 seconds before retry 1 of 5 for request: POST https://earthengine.googleapis.com/v1alpha/projects/earthengine-legacy/value:compute?prettyPrint=false&alt=json, after 500\n"
     ]
    },
    {
     "name": "stdout",
     "output_type": "stream",
     "text": [
      "\n",
      "processing:\n",
      "IDAHO_EPSCOR/TERRACLIMATE/195801\n"
     ]
    },
    {
     "data": {
      "application/vnd.jupyter.widget-view+json": {
       "model_id": "520bfe9bfee946e194558d8baf76f895",
       "version_major": 2,
       "version_minor": 0
      },
      "text/plain": [
       "HBox(children=(FloatProgress(value=0.0, max=228.0), HTML(value='')))"
      ]
     },
     "metadata": {},
     "output_type": "display_data"
    },
    {
     "name": "stdout",
     "output_type": "stream",
     "text": [
      "\n",
      "processing:\n",
      "NASA/ORNL/DAYMET_V3/19800101\n"
     ]
    },
    {
     "data": {
      "application/vnd.jupyter.widget-view+json": {
       "model_id": "8abedfcd32e147c6b559e92a1357c0eb",
       "version_major": 2,
       "version_minor": 0
      },
      "text/plain": [
       "HBox(children=(FloatProgress(value=0.0, max=228.0), HTML(value='')))"
      ]
     },
     "metadata": {},
     "output_type": "display_data"
    },
    {
     "name": "stdout",
     "output_type": "stream",
     "text": [
      "\n",
      "14\n",
      "************************************************************\n",
      "PNF KINGS R\n"
     ]
    },
    {
     "name": "stderr",
     "output_type": "stream",
     "text": [
      "100%|██████████| 116/116 [00:01<00:00, 98.45it/s]\n"
     ]
    },
    {
     "name": "stdout",
     "output_type": "stream",
     "text": [
      "processing:\n",
      "OREGONSTATE/PRISM/AN81m/189501\n"
     ]
    },
    {
     "data": {
      "application/vnd.jupyter.widget-view+json": {
       "model_id": "502ca4f693e047d2a5ede360a98d15cb",
       "version_major": 2,
       "version_minor": 0
      },
      "text/plain": [
       "HBox(children=(FloatProgress(value=0.0, max=228.0), HTML(value='')))"
      ]
     },
     "metadata": {},
     "output_type": "display_data"
    },
    {
     "name": "stdout",
     "output_type": "stream",
     "text": [
      "\n",
      "processing:\n",
      "MODIS/006/MOD16A2/2001_01_01\n"
     ]
    },
    {
     "data": {
      "application/vnd.jupyter.widget-view+json": {
       "model_id": "c0e05c0a69274732a46f690427235219",
       "version_major": 2,
       "version_minor": 0
      },
      "text/plain": [
       "HBox(children=(FloatProgress(value=0.0, max=228.0), HTML(value='')))"
      ]
     },
     "metadata": {},
     "output_type": "display_data"
    },
    {
     "name": "stdout",
     "output_type": "stream",
     "text": [
      "\n",
      "processing:\n",
      "MODIS/006/MOD16A2/2001_01_01\n"
     ]
    },
    {
     "data": {
      "application/vnd.jupyter.widget-view+json": {
       "model_id": "4418231bc5094b92a6f03eadbede5d21",
       "version_major": 2,
       "version_minor": 0
      },
      "text/plain": [
       "HBox(children=(FloatProgress(value=0.0, max=228.0), HTML(value='')))"
      ]
     },
     "metadata": {},
     "output_type": "display_data"
    },
    {
     "name": "stderr",
     "output_type": "stream",
     "text": [
      "WARNING:googleapiclient.http:Sleeping 0.28 seconds before retry 1 of 5 for request: POST https://earthengine.googleapis.com/v1alpha/projects/earthengine-legacy/value:compute?prettyPrint=false&alt=json, after 500\n"
     ]
    },
    {
     "name": "stdout",
     "output_type": "stream",
     "text": [
      "\n",
      "processing:\n",
      "IDAHO_EPSCOR/TERRACLIMATE/195801\n"
     ]
    },
    {
     "data": {
      "application/vnd.jupyter.widget-view+json": {
       "model_id": "45ce3dc122564580b383a1d510134060",
       "version_major": 2,
       "version_minor": 0
      },
      "text/plain": [
       "HBox(children=(FloatProgress(value=0.0, max=228.0), HTML(value='')))"
      ]
     },
     "metadata": {},
     "output_type": "display_data"
    },
    {
     "name": "stderr",
     "output_type": "stream",
     "text": [
      "WARNING:googleapiclient.http:Sleeping 0.62 seconds before retry 1 of 5 for request: POST https://earthengine.googleapis.com/v1alpha/projects/earthengine-legacy/value:compute?prettyPrint=false&alt=json, after 500\n",
      "WARNING:googleapiclient.http:Sleeping 1.56 seconds before retry 2 of 5 for request: POST https://earthengine.googleapis.com/v1alpha/projects/earthengine-legacy/value:compute?prettyPrint=false&alt=json, after 500\n"
     ]
    },
    {
     "name": "stdout",
     "output_type": "stream",
     "text": [
      "\n",
      "processing:\n",
      "NASA/ORNL/DAYMET_V3/19800101\n"
     ]
    },
    {
     "data": {
      "application/vnd.jupyter.widget-view+json": {
       "model_id": "435783fc63654fdfa96c496b220aa67e",
       "version_major": 2,
       "version_minor": 0
      },
      "text/plain": [
       "HBox(children=(FloatProgress(value=0.0, max=228.0), HTML(value='')))"
      ]
     },
     "metadata": {},
     "output_type": "display_data"
    },
    {
     "name": "stdout",
     "output_type": "stream",
     "text": [
      "\n",
      "15\n",
      "************************************************************\n",
      "PAR MOKELUMNE R\n"
     ]
    },
    {
     "name": "stderr",
     "output_type": "stream",
     "text": [
      "100%|██████████| 116/116 [00:01<00:00, 61.17it/s]\n"
     ]
    },
    {
     "name": "stdout",
     "output_type": "stream",
     "text": [
      "processing:\n",
      "OREGONSTATE/PRISM/AN81m/189501\n"
     ]
    },
    {
     "data": {
      "application/vnd.jupyter.widget-view+json": {
       "model_id": "35ef3c4461534517a900e30d71ea0920",
       "version_major": 2,
       "version_minor": 0
      },
      "text/plain": [
       "HBox(children=(FloatProgress(value=0.0, max=228.0), HTML(value='')))"
      ]
     },
     "metadata": {},
     "output_type": "display_data"
    },
    {
     "name": "stdout",
     "output_type": "stream",
     "text": [
      "\n",
      "processing:\n",
      "MODIS/006/MOD16A2/2001_01_01\n"
     ]
    },
    {
     "data": {
      "application/vnd.jupyter.widget-view+json": {
       "model_id": "6d51a25378a645d0a2992f3ebb6bcfe0",
       "version_major": 2,
       "version_minor": 0
      },
      "text/plain": [
       "HBox(children=(FloatProgress(value=0.0, max=228.0), HTML(value='')))"
      ]
     },
     "metadata": {},
     "output_type": "display_data"
    },
    {
     "name": "stdout",
     "output_type": "stream",
     "text": [
      "\n",
      "processing:\n",
      "MODIS/006/MOD16A2/2001_01_01\n"
     ]
    },
    {
     "data": {
      "application/vnd.jupyter.widget-view+json": {
       "model_id": "c7bd894fe8394d2b805f8d4d41e39fa7",
       "version_major": 2,
       "version_minor": 0
      },
      "text/plain": [
       "HBox(children=(FloatProgress(value=0.0, max=228.0), HTML(value='')))"
      ]
     },
     "metadata": {},
     "output_type": "display_data"
    },
    {
     "name": "stdout",
     "output_type": "stream",
     "text": [
      "\n",
      "processing:\n",
      "IDAHO_EPSCOR/TERRACLIMATE/195801\n"
     ]
    },
    {
     "data": {
      "application/vnd.jupyter.widget-view+json": {
       "model_id": "366ec26546a4444490c1863b242357b2",
       "version_major": 2,
       "version_minor": 0
      },
      "text/plain": [
       "HBox(children=(FloatProgress(value=0.0, max=228.0), HTML(value='')))"
      ]
     },
     "metadata": {},
     "output_type": "display_data"
    },
    {
     "name": "stdout",
     "output_type": "stream",
     "text": [
      "\n",
      "processing:\n",
      "NASA/ORNL/DAYMET_V3/19800101\n"
     ]
    },
    {
     "data": {
      "application/vnd.jupyter.widget-view+json": {
       "model_id": "5917e8a75a594da3bea9531a79256300",
       "version_major": 2,
       "version_minor": 0
      },
      "text/plain": [
       "HBox(children=(FloatProgress(value=0.0, max=228.0), HTML(value='')))"
      ]
     },
     "metadata": {},
     "output_type": "display_data"
    },
    {
     "name": "stdout",
     "output_type": "stream",
     "text": [
      "\n"
     ]
    }
   ],
   "source": [
    "for idx, x in enumerate(gdf[:].iterrows()):\n",
    "    print(idx)\n",
    "    print(\"****\" * 15)\n",
    "    row  = x[1]\n",
    "    stn_id = row['stid']\n",
    "    print(stn_id, row['catch_name'])\n",
    "    \n",
    "    # Get the outflow, to the reservoir or through the river\n",
    "    if not stn_id.isdigit():\n",
    "        outflow = get_Sres_out(stn_id)\n",
    "\n",
    "    else:\n",
    "        Qsout_daily = get_q_out(stn_id)\n",
    "        outflow = pd.DataFrame(Qsout_daily['q_cms'].resample(\"M\").sum()) * 1e-9 * 86400 # cms to km^3 / mon\n",
    "        outflow.columns = ['qout_km3']\n",
    "\n",
    "    # Get the within wshed reservoir data (dont double count outlet)\n",
    "    catch = gp.read_file(\"../shape/catchment_{}.shp\".format(idx))\n",
    "    \n",
    "    # Spatial join cdec reservoirs to supplied catchment \n",
    "    reservoirs = gp.read_file(\"../shape/reservoirs_grace.shp\")\n",
    "    within_catch = gp.sjoin(reservoirs, catch, how='inner', op='within')\n",
    "    within_catch = within_catch[~within_catch['ID'].isin([stn_id])]\n",
    "    \n",
    "    # Handle cases with no reservoirs\n",
    "    if len(within_catch) > 0:\n",
    "        Sres = get_wshed_Sres(within_catch)\n",
    "    else:\n",
    "        Sres_arr = np.zeros_like(outflow.values)\n",
    "        Sres = pd.DataFrame(Sres_arr,outflow.index)\n",
    "        Sres.columns = ['Sres']\n",
    "        \n",
    "    # Get the SWE LRM RS data    \n",
    "    catch_shp = \"../shape/catchment_{}.shp\".format(idx)\n",
    "    lrm_swe = get_lrm_swe(catch_shp)\n",
    "    \n",
    "    # Get the SSEBop ET RS data\n",
    "    ssebop_et = get_ssebop(catch_shp)\n",
    "\n",
    "    # Get the RS data (EE)\n",
    "    area = rs.gdf_to_ee_poly(gp.GeoDataFrame(gdf.loc[idx]).T)\n",
    "    prism = rs.calc_monthly_sum(data['prism'], strstart, strend, area)\n",
    "    modis_aet = rs.calc_monthly_sum(data['modis_aet'], strstart, strend, area)\n",
    "    modis_pet = rs.calc_monthly_sum(data['modis_pet'], strstart, strend, area)\n",
    "    tc_sm = rs.calc_monthly_mean(data['tc_sm'], strstart, strend, area)\n",
    "    dmet_swe = rs.calc_monthly_mean(data['dmet_swe'],strstart, strend, area)\n",
    "    \n",
    "    prism.set_index(prism.index + MonthEnd(0), inplace = True)\n",
    "    modis_aet.set_index(modis_aet.index + MonthEnd(0), inplace = True)\n",
    "    modis_pet.set_index(modis_pet.index + MonthEnd(0), inplace = True)\n",
    "    tc_sm.set_index(tc_sm.index + MonthEnd(0), inplace = True)\n",
    "    dmet_swe.set_index(dmet_swe.index + MonthEnd(0), inplace = True)\n",
    "    \n",
    "    prism.columns = ['p_prism']\n",
    "    modis_aet.columns = ['aet_modis']\n",
    "    modis_pet.columns = ['pet_modis']\n",
    "    tc_sm.columns = ['tc_sm']\n",
    "    dmet_swe.columns = ['dmet_swe']\n",
    "\n",
    "    # Build the out dataframe \n",
    "    mdf = pd.concat([prism,ssebop_et,modis_aet, modis_pet, tc_sm, dmet_swe, lrm_swe,Sres,outflow],axis = 1)\n",
    "    \n",
    "    # Write\n",
    "    outfn = \"../data/RS_catchdat/catch_{}.csv\".format(idx)\n",
    "    \n",
    "    mdf.to_csv(outfn)\n",
    "    "
   ]
  },
  {
   "cell_type": "code",
   "execution_count": null,
   "metadata": {},
   "outputs": [],
   "source": []
  }
 ],
 "metadata": {
  "kernelspec": {
   "display_name": "Python 3",
   "language": "python",
   "name": "python3"
  },
  "language_info": {
   "codemirror_mode": {
    "name": "ipython",
    "version": 3
   },
   "file_extension": ".py",
   "mimetype": "text/x-python",
   "name": "python",
   "nbconvert_exporter": "python",
   "pygments_lexer": "ipython3",
   "version": "3.8.2"
  }
 },
 "nbformat": 4,
 "nbformat_minor": 4
}
